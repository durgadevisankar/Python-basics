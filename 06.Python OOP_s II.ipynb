{
  "nbformat": 4,
  "nbformat_minor": 0,
  "metadata": {
    "colab": {
      "provenance": []
    },
    "kernelspec": {
      "name": "python3",
      "display_name": "Python 3"
    },
    "language_info": {
      "name": "python"
    }
  },
  "cells": [
    {
      "cell_type": "markdown",
      "source": [
        "# Iterators"
      ],
      "metadata": {
        "id": "O1xwbbOB-0z9"
      }
    },
    {
      "cell_type": "code",
      "source": [
        "x=list(range(1,6))\n",
        "x"
      ],
      "metadata": {
        "colab": {
          "base_uri": "https://localhost:8080/"
        },
        "id": "kgBXoepToDbY",
        "outputId": "0b8cdaa9-147c-43b9-8d42-67d31ecbc508"
      },
      "execution_count": 41,
      "outputs": [
        {
          "output_type": "execute_result",
          "data": {
            "text/plain": [
              "[1, 2, 3, 4, 5]"
            ]
          },
          "metadata": {},
          "execution_count": 41
        }
      ]
    },
    {
      "cell_type": "code",
      "source": [
        "for i in x:\n",
        "  print(i)"
      ],
      "metadata": {
        "colab": {
          "base_uri": "https://localhost:8080/"
        },
        "id": "br5n16Hh-Sfl",
        "outputId": "c3436df4-d5fb-46a7-bcce-65fee1d980b6"
      },
      "execution_count": 42,
      "outputs": [
        {
          "output_type": "stream",
          "name": "stdout",
          "text": [
            "1\n",
            "2\n",
            "3\n",
            "4\n",
            "5\n"
          ]
        }
      ]
    },
    {
      "cell_type": "code",
      "source": [
        "a=iter(x)"
      ],
      "metadata": {
        "id": "_aK3jiO2-VVz"
      },
      "execution_count": 43,
      "outputs": []
    },
    {
      "cell_type": "code",
      "source": [
        "a"
      ],
      "metadata": {
        "colab": {
          "base_uri": "https://localhost:8080/"
        },
        "id": "zICEfErb-dze",
        "outputId": "55f59800-9724-460c-80b9-926d2e762e63"
      },
      "execution_count": 44,
      "outputs": [
        {
          "output_type": "execute_result",
          "data": {
            "text/plain": [
              "<list_iterator at 0x7ed88b2dfbe0>"
            ]
          },
          "metadata": {},
          "execution_count": 44
        }
      ]
    },
    {
      "cell_type": "code",
      "source": [
        "next(a)"
      ],
      "metadata": {
        "colab": {
          "base_uri": "https://localhost:8080/"
        },
        "id": "YOSMQZmQ-eqk",
        "outputId": "09f55c07-04b9-40c6-b8d7-eb70f2cb2125"
      },
      "execution_count": 45,
      "outputs": [
        {
          "output_type": "execute_result",
          "data": {
            "text/plain": [
              "1"
            ]
          },
          "metadata": {},
          "execution_count": 45
        }
      ]
    },
    {
      "cell_type": "code",
      "source": [
        "next(a)"
      ],
      "metadata": {
        "colab": {
          "base_uri": "https://localhost:8080/"
        },
        "id": "qrBj5Hyj-guy",
        "outputId": "6f3488cd-8919-4afb-e98e-69f660260040"
      },
      "execution_count": 46,
      "outputs": [
        {
          "output_type": "execute_result",
          "data": {
            "text/plain": [
              "2"
            ]
          },
          "metadata": {},
          "execution_count": 46
        }
      ]
    },
    {
      "cell_type": "code",
      "source": [
        "next(a)"
      ],
      "metadata": {
        "colab": {
          "base_uri": "https://localhost:8080/"
        },
        "id": "AGJInD9z-ipY",
        "outputId": "2c52200f-35be-43f3-f49f-8857e38f0a6f"
      },
      "execution_count": 47,
      "outputs": [
        {
          "output_type": "execute_result",
          "data": {
            "text/plain": [
              "3"
            ]
          },
          "metadata": {},
          "execution_count": 47
        }
      ]
    },
    {
      "cell_type": "code",
      "source": [
        "next(a)"
      ],
      "metadata": {
        "colab": {
          "base_uri": "https://localhost:8080/"
        },
        "id": "EuZTO9NW-ju-",
        "outputId": "5cf2b586-bf3f-44d4-cb16-84c598926bca"
      },
      "execution_count": 48,
      "outputs": [
        {
          "output_type": "execute_result",
          "data": {
            "text/plain": [
              "4"
            ]
          },
          "metadata": {},
          "execution_count": 48
        }
      ]
    },
    {
      "cell_type": "code",
      "source": [
        "next(a)"
      ],
      "metadata": {
        "colab": {
          "base_uri": "https://localhost:8080/"
        },
        "id": "mNShUGEl-ku3",
        "outputId": "a5088fa7-5026-4332-9cab-0ced1000b409"
      },
      "execution_count": 49,
      "outputs": [
        {
          "output_type": "execute_result",
          "data": {
            "text/plain": [
              "5"
            ]
          },
          "metadata": {},
          "execution_count": 49
        }
      ]
    },
    {
      "cell_type": "code",
      "source": [],
      "metadata": {
        "id": "X99wlIi2-oh8"
      },
      "execution_count": null,
      "outputs": []
    },
    {
      "cell_type": "markdown",
      "source": [
        "# Generators"
      ],
      "metadata": {
        "id": "r-yVqdrl_DiR"
      }
    },
    {
      "cell_type": "code",
      "source": [
        "def values(n):\n",
        "  while n>0:\n",
        "    yield n\n",
        "    n-=1"
      ],
      "metadata": {
        "id": "-a-9RMJy_FPQ"
      },
      "execution_count": 58,
      "outputs": []
    },
    {
      "cell_type": "code",
      "source": [
        "b=values(5)"
      ],
      "metadata": {
        "id": "lPYEVN3e_gp1"
      },
      "execution_count": 59,
      "outputs": []
    },
    {
      "cell_type": "code",
      "source": [
        "next(b)"
      ],
      "metadata": {
        "colab": {
          "base_uri": "https://localhost:8080/"
        },
        "id": "7M5GjjFV_hgl",
        "outputId": "4bd1b70e-0857-4752-c865-1978efe94df7"
      },
      "execution_count": 60,
      "outputs": [
        {
          "output_type": "execute_result",
          "data": {
            "text/plain": [
              "5"
            ]
          },
          "metadata": {},
          "execution_count": 60
        }
      ]
    },
    {
      "cell_type": "code",
      "source": [
        "next(b)"
      ],
      "metadata": {
        "colab": {
          "base_uri": "https://localhost:8080/"
        },
        "id": "LYnV0XUB_l9-",
        "outputId": "c6b27737-500d-4a65-92b2-ba6eac24232f"
      },
      "execution_count": 61,
      "outputs": [
        {
          "output_type": "execute_result",
          "data": {
            "text/plain": [
              "4"
            ]
          },
          "metadata": {},
          "execution_count": 61
        }
      ]
    },
    {
      "cell_type": "code",
      "source": [
        "next(b)"
      ],
      "metadata": {
        "colab": {
          "base_uri": "https://localhost:8080/"
        },
        "id": "3kWfcBm3_qzv",
        "outputId": "90d04881-226b-4dfc-af7f-afa31a89e90d"
      },
      "execution_count": 62,
      "outputs": [
        {
          "output_type": "execute_result",
          "data": {
            "text/plain": [
              "3"
            ]
          },
          "metadata": {},
          "execution_count": 62
        }
      ]
    },
    {
      "cell_type": "code",
      "source": [
        "next(b)"
      ],
      "metadata": {
        "colab": {
          "base_uri": "https://localhost:8080/"
        },
        "id": "V3HVT2I3_40r",
        "outputId": "8882d94a-a19d-45f2-8890-5291e163611d"
      },
      "execution_count": 63,
      "outputs": [
        {
          "output_type": "execute_result",
          "data": {
            "text/plain": [
              "2"
            ]
          },
          "metadata": {},
          "execution_count": 63
        }
      ]
    },
    {
      "cell_type": "code",
      "source": [
        "next(b)"
      ],
      "metadata": {
        "colab": {
          "base_uri": "https://localhost:8080/"
        },
        "id": "dCEuZ5lb_7ET",
        "outputId": "4e01b5cf-4e78-4997-9531-0322aed845b5"
      },
      "execution_count": 65,
      "outputs": [
        {
          "output_type": "execute_result",
          "data": {
            "text/plain": [
              "1"
            ]
          },
          "metadata": {},
          "execution_count": 65
        }
      ]
    },
    {
      "cell_type": "code",
      "source": [],
      "metadata": {
        "id": "ZAbz8Pwq_-w6"
      },
      "execution_count": null,
      "outputs": []
    },
    {
      "cell_type": "markdown",
      "source": [
        "#Inheritance"
      ],
      "metadata": {
        "id": "_-xFWfXsBRO2"
      }
    },
    {
      "cell_type": "code",
      "source": [
        "class A:\n",
        "  def __init__(self,name):\n",
        "    self.name=name\n",
        "\n",
        "  def details(self):\n",
        "    print(f'name is {self.name}')\n",
        "\n",
        "class B:\n",
        "  def __init__(self,age):\n",
        "    self.age=age\n",
        "\n",
        "  def details_b(self):\n",
        "    print(f'age is {self.age}')"
      ],
      "metadata": {
        "id": "G3kpXKIRBTvK"
      },
      "execution_count": 70,
      "outputs": []
    },
    {
      "cell_type": "code",
      "source": [
        "o=A('anish')"
      ],
      "metadata": {
        "id": "S0FxJ3w2BqI3"
      },
      "execution_count": 68,
      "outputs": []
    },
    {
      "cell_type": "code",
      "source": [
        "o.name"
      ],
      "metadata": {
        "colab": {
          "base_uri": "https://localhost:8080/",
          "height": 35
        },
        "id": "7I7s2rzSB3S0",
        "outputId": "a2a813c1-67ca-4d0e-809b-c93c3737ec54"
      },
      "execution_count": 69,
      "outputs": [
        {
          "output_type": "execute_result",
          "data": {
            "text/plain": [
              "'anish'"
            ],
            "application/vnd.google.colaboratory.intrinsic+json": {
              "type": "string"
            }
          },
          "metadata": {},
          "execution_count": 69
        }
      ]
    },
    {
      "cell_type": "code",
      "source": [
        "o.details()"
      ],
      "metadata": {
        "colab": {
          "base_uri": "https://localhost:8080/"
        },
        "id": "mmmuHGaYB4ss",
        "outputId": "2deec7ee-f315-4b05-8650-9855298dcaac"
      },
      "execution_count": 71,
      "outputs": [
        {
          "output_type": "stream",
          "name": "stdout",
          "text": [
            "name is anish\n"
          ]
        }
      ]
    },
    {
      "cell_type": "code",
      "source": [
        "o1=B(33)\n",
        "o1.age"
      ],
      "metadata": {
        "colab": {
          "base_uri": "https://localhost:8080/"
        },
        "id": "W9UFe_xoCCoF",
        "outputId": "d51fb9aa-1675-492c-f149-0fe0e432f2b4"
      },
      "execution_count": 73,
      "outputs": [
        {
          "output_type": "execute_result",
          "data": {
            "text/plain": [
              "33"
            ]
          },
          "metadata": {},
          "execution_count": 73
        }
      ]
    },
    {
      "cell_type": "code",
      "source": [
        "o1.details_b()"
      ],
      "metadata": {
        "colab": {
          "base_uri": "https://localhost:8080/"
        },
        "id": "eGi8PlIZCTIA",
        "outputId": "92d4d66c-57fe-4782-ce4f-edc9d7e91e49"
      },
      "execution_count": 74,
      "outputs": [
        {
          "output_type": "stream",
          "name": "stdout",
          "text": [
            "age is 33\n"
          ]
        }
      ]
    },
    {
      "cell_type": "code",
      "source": [],
      "metadata": {
        "id": "Vzo8Wx4qCUnE"
      },
      "execution_count": null,
      "outputs": []
    },
    {
      "cell_type": "markdown",
      "source": [
        "# i) Single\n"
      ],
      "metadata": {
        "id": "OK07PRaLDgA0"
      }
    },
    {
      "cell_type": "code",
      "source": [
        "class employee:\n",
        "  def __init__(self,name,age,sal):\n",
        "    self.name=name\n",
        "    self.age=age\n",
        "    self.sal=sal\n",
        "\n",
        "  def details(self):\n",
        "    print(f'name is {self.name}, age is {self.age}, salary is {self.sal}')\n",
        "\n",
        "class manager(employee):\n",
        "  def __init__(self,name,age,sal,man_name):\n",
        "    self.man_name=man_name\n",
        "    self.name=name\n",
        "    self.age=age\n",
        "    self.sal=sal\n",
        "  def manager_name(self):\n",
        "    print(f'manager name is {self.name}')"
      ],
      "metadata": {
        "id": "H7RzdruTDjXb"
      },
      "execution_count": 107,
      "outputs": []
    },
    {
      "cell_type": "code",
      "source": [
        "o=employee('ravi',25,10000)"
      ],
      "metadata": {
        "id": "vKTwGDDeE1Fm"
      },
      "execution_count": 82,
      "outputs": []
    },
    {
      "cell_type": "code",
      "source": [
        "o.name"
      ],
      "metadata": {
        "colab": {
          "base_uri": "https://localhost:8080/",
          "height": 35
        },
        "id": "fi702s1CE8TY",
        "outputId": "186689dc-260e-41e7-d2f1-b9841447877e"
      },
      "execution_count": 83,
      "outputs": [
        {
          "output_type": "execute_result",
          "data": {
            "text/plain": [
              "'ravi'"
            ],
            "application/vnd.google.colaboratory.intrinsic+json": {
              "type": "string"
            }
          },
          "metadata": {},
          "execution_count": 83
        }
      ]
    },
    {
      "cell_type": "code",
      "source": [
        "o.age"
      ],
      "metadata": {
        "colab": {
          "base_uri": "https://localhost:8080/"
        },
        "id": "Fr_OWvTeE-i8",
        "outputId": "00e4b2fa-7d93-492c-b3ee-f2b53e5c5639"
      },
      "execution_count": 84,
      "outputs": [
        {
          "output_type": "execute_result",
          "data": {
            "text/plain": [
              "25"
            ]
          },
          "metadata": {},
          "execution_count": 84
        }
      ]
    },
    {
      "cell_type": "code",
      "source": [
        "o.sal"
      ],
      "metadata": {
        "colab": {
          "base_uri": "https://localhost:8080/"
        },
        "id": "MT9UM0OyE__F",
        "outputId": "0a57db4f-c143-4758-e563-04a03f033d5c"
      },
      "execution_count": 85,
      "outputs": [
        {
          "output_type": "execute_result",
          "data": {
            "text/plain": [
              "10000"
            ]
          },
          "metadata": {},
          "execution_count": 85
        }
      ]
    },
    {
      "cell_type": "code",
      "source": [
        "o.details()"
      ],
      "metadata": {
        "colab": {
          "base_uri": "https://localhost:8080/"
        },
        "id": "MVA8GOFeFBht",
        "outputId": "c84138df-a169-4838-97df-eb1d35442bdd"
      },
      "execution_count": 86,
      "outputs": [
        {
          "output_type": "stream",
          "name": "stdout",
          "text": [
            "name is ravi, age is 25, salary is 10000\n"
          ]
        }
      ]
    },
    {
      "cell_type": "code",
      "source": [
        "o1=manager('akash',26,3000,'karthik')"
      ],
      "metadata": {
        "id": "tGOZ-yMRFEx8"
      },
      "execution_count": 108,
      "outputs": []
    },
    {
      "cell_type": "code",
      "source": [
        "o1.man_name"
      ],
      "metadata": {
        "colab": {
          "base_uri": "https://localhost:8080/",
          "height": 35
        },
        "id": "O9z-Mv88FTvH",
        "outputId": "14c30b90-ff59-4909-c5e0-a86ee8f8a3f9"
      },
      "execution_count": 109,
      "outputs": [
        {
          "output_type": "execute_result",
          "data": {
            "text/plain": [
              "'karthik'"
            ],
            "application/vnd.google.colaboratory.intrinsic+json": {
              "type": "string"
            }
          },
          "metadata": {},
          "execution_count": 109
        }
      ]
    },
    {
      "cell_type": "code",
      "source": [
        "o1.name"
      ],
      "metadata": {
        "colab": {
          "base_uri": "https://localhost:8080/",
          "height": 35
        },
        "id": "HTtJX4q6HMe0",
        "outputId": "26203482-96c1-4e8a-aad1-15045178eb1f"
      },
      "execution_count": 110,
      "outputs": [
        {
          "output_type": "execute_result",
          "data": {
            "text/plain": [
              "'akash'"
            ],
            "application/vnd.google.colaboratory.intrinsic+json": {
              "type": "string"
            }
          },
          "metadata": {},
          "execution_count": 110
        }
      ]
    },
    {
      "cell_type": "code",
      "source": [
        "o1.manager_name()"
      ],
      "metadata": {
        "colab": {
          "base_uri": "https://localhost:8080/"
        },
        "id": "BRat6j8ZHwqn",
        "outputId": "e4166c13-eba8-4822-a517-3591e89bcc27"
      },
      "execution_count": 112,
      "outputs": [
        {
          "output_type": "stream",
          "name": "stdout",
          "text": [
            "manager name is akash\n"
          ]
        }
      ]
    },
    {
      "cell_type": "code",
      "source": [
        "o1.details()"
      ],
      "metadata": {
        "colab": {
          "base_uri": "https://localhost:8080/"
        },
        "id": "fQFbzPvVH1lV",
        "outputId": "36ff6903-992c-4ebc-b259-b1bcd9de6ab1"
      },
      "execution_count": 113,
      "outputs": [
        {
          "output_type": "stream",
          "name": "stdout",
          "text": [
            "name is akash, age is 26, salary is 3000\n"
          ]
        }
      ]
    },
    {
      "cell_type": "code",
      "source": [
        "class A:\n",
        "  def walking(self):\n",
        "    print('I am walking now')\n",
        "\n",
        "class B(A):\n",
        "  def moving(self):\n",
        "    print('I am moving from one place to another place')"
      ],
      "metadata": {
        "id": "YhAzmzXxFdld"
      },
      "execution_count": 95,
      "outputs": []
    },
    {
      "cell_type": "code",
      "source": [],
      "metadata": {
        "id": "fIJEcoV2HJcD"
      },
      "execution_count": null,
      "outputs": []
    },
    {
      "cell_type": "code",
      "source": [
        "o=A()"
      ],
      "metadata": {
        "id": "PHUOMLa4GTBG"
      },
      "execution_count": 96,
      "outputs": []
    },
    {
      "cell_type": "code",
      "source": [
        "o.walking()"
      ],
      "metadata": {
        "colab": {
          "base_uri": "https://localhost:8080/"
        },
        "id": "nhoXjTDXGa6X",
        "outputId": "16db8494-657a-40bd-b820-2cce6e8c3866"
      },
      "execution_count": 98,
      "outputs": [
        {
          "output_type": "stream",
          "name": "stdout",
          "text": [
            "I am walking now\n"
          ]
        }
      ]
    },
    {
      "cell_type": "code",
      "source": [
        "o1=B()\n",
        "o1.moving()"
      ],
      "metadata": {
        "colab": {
          "base_uri": "https://localhost:8080/"
        },
        "id": "hT-03nZ_Gt33",
        "outputId": "80c08032-9944-4d97-9727-205f09d865a8"
      },
      "execution_count": 100,
      "outputs": [
        {
          "output_type": "stream",
          "name": "stdout",
          "text": [
            "I am moving from one place to another place\n"
          ]
        }
      ]
    },
    {
      "cell_type": "code",
      "source": [
        "o1.walking()"
      ],
      "metadata": {
        "colab": {
          "base_uri": "https://localhost:8080/"
        },
        "id": "peGOkn10Gzhm",
        "outputId": "b65d092a-53b6-48bc-e9b5-c044a08123dc"
      },
      "execution_count": 101,
      "outputs": [
        {
          "output_type": "stream",
          "name": "stdout",
          "text": [
            "I am walking now\n"
          ]
        }
      ]
    },
    {
      "cell_type": "code",
      "source": [],
      "metadata": {
        "id": "VG8UrnspG2v3"
      },
      "execution_count": null,
      "outputs": []
    },
    {
      "cell_type": "markdown",
      "source": [
        "# ii) Multiple"
      ],
      "metadata": {
        "id": "9rHsx8oCIjvQ"
      }
    },
    {
      "cell_type": "code",
      "source": [
        "class A:\n",
        "  def walking(self):\n",
        "    print('I am walking now')\n",
        "\n",
        "class B:\n",
        "  def moving(self):\n",
        "    print('I am moving from one place to another place')\n",
        "\n",
        "class C(A,B):\n",
        "  def both_accessing(self):\n",
        "    print('I can able to access both the classes')"
      ],
      "metadata": {
        "id": "uLFBuxNJIns4"
      },
      "execution_count": 114,
      "outputs": []
    },
    {
      "cell_type": "code",
      "source": [
        "o=A()\n",
        "o.walking()"
      ],
      "metadata": {
        "colab": {
          "base_uri": "https://localhost:8080/"
        },
        "id": "zfSKzw1EJBxS",
        "outputId": "b043d82c-02c1-4014-b1ed-9abaf05b4408"
      },
      "execution_count": 115,
      "outputs": [
        {
          "output_type": "stream",
          "name": "stdout",
          "text": [
            "I am walking now\n"
          ]
        }
      ]
    },
    {
      "cell_type": "code",
      "source": [
        "o1=B()\n",
        "o1.moving()"
      ],
      "metadata": {
        "colab": {
          "base_uri": "https://localhost:8080/"
        },
        "id": "jsZFjcgeJE9i",
        "outputId": "867d637b-f28a-43db-9bd6-5b908455de8b"
      },
      "execution_count": 117,
      "outputs": [
        {
          "output_type": "stream",
          "name": "stdout",
          "text": [
            "I am moving from one place to another place\n"
          ]
        }
      ]
    },
    {
      "cell_type": "code",
      "source": [
        "c=C()"
      ],
      "metadata": {
        "id": "dPtMWwnMJWqW"
      },
      "execution_count": 120,
      "outputs": []
    },
    {
      "cell_type": "code",
      "source": [
        "c.both_accessing()"
      ],
      "metadata": {
        "colab": {
          "base_uri": "https://localhost:8080/"
        },
        "id": "wVAqGLp_Jff5",
        "outputId": "00f571a0-9fc6-44dc-d2d9-7060ec9a6b2f"
      },
      "execution_count": 121,
      "outputs": [
        {
          "output_type": "stream",
          "name": "stdout",
          "text": [
            "I can able to access both the classes\n"
          ]
        }
      ]
    },
    {
      "cell_type": "code",
      "source": [
        "c.walking()"
      ],
      "metadata": {
        "colab": {
          "base_uri": "https://localhost:8080/"
        },
        "id": "yq2QaenIJg3n",
        "outputId": "3721201f-d4f3-49af-fd51-cdb2fb6547fc"
      },
      "execution_count": 122,
      "outputs": [
        {
          "output_type": "stream",
          "name": "stdout",
          "text": [
            "I am walking now\n"
          ]
        }
      ]
    },
    {
      "cell_type": "code",
      "source": [
        "c.moving()"
      ],
      "metadata": {
        "colab": {
          "base_uri": "https://localhost:8080/"
        },
        "id": "3760ezMDJjM6",
        "outputId": "bf1c892f-8085-4bff-e69e-9c2a3cf83b88"
      },
      "execution_count": 123,
      "outputs": [
        {
          "output_type": "stream",
          "name": "stdout",
          "text": [
            "I am moving from one place to another place\n"
          ]
        }
      ]
    },
    {
      "cell_type": "code",
      "source": [],
      "metadata": {
        "id": "ScAOjVC2JrIy"
      },
      "execution_count": null,
      "outputs": []
    },
    {
      "cell_type": "markdown",
      "source": [
        "#iii) Multilevel"
      ],
      "metadata": {
        "id": "M_LYJjilJ2Y0"
      }
    },
    {
      "cell_type": "code",
      "source": [
        "class Parent:\n",
        "  def walking(self):\n",
        "    print('I am walking now')\n",
        "\n",
        "class Child(Parent):\n",
        "  def moving(self):\n",
        "    print('I am moving from one place to another place')\n",
        "\n",
        "class grandparent(Child):\n",
        "  def both_accessing(self):\n",
        "    print('I can able to access both the classes')"
      ],
      "metadata": {
        "id": "NAdznPhWJ5ja"
      },
      "execution_count": 130,
      "outputs": []
    },
    {
      "cell_type": "code",
      "source": [
        "a=Parent()\n",
        "a.walking()"
      ],
      "metadata": {
        "colab": {
          "base_uri": "https://localhost:8080/"
        },
        "id": "ytdyGcSuLuxu",
        "outputId": "d3fd8654-9629-4da7-ad3c-0a635c7bb693"
      },
      "execution_count": 131,
      "outputs": [
        {
          "output_type": "stream",
          "name": "stdout",
          "text": [
            "I am walking now\n"
          ]
        }
      ]
    },
    {
      "cell_type": "code",
      "source": [
        "b=Child()\n",
        "b.walking()"
      ],
      "metadata": {
        "colab": {
          "base_uri": "https://localhost:8080/"
        },
        "id": "-EwWjDDfLxcR",
        "outputId": "0d5361e8-5916-495a-a63c-c7206092aca4"
      },
      "execution_count": 132,
      "outputs": [
        {
          "output_type": "stream",
          "name": "stdout",
          "text": [
            "I am walking now\n"
          ]
        }
      ]
    },
    {
      "cell_type": "code",
      "source": [
        "b.moving()"
      ],
      "metadata": {
        "colab": {
          "base_uri": "https://localhost:8080/"
        },
        "id": "d8QrEkV3LyrR",
        "outputId": "bdf83348-ce85-4154-baee-cbeb5669b035"
      },
      "execution_count": 133,
      "outputs": [
        {
          "output_type": "stream",
          "name": "stdout",
          "text": [
            "I am moving from one place to another place\n"
          ]
        }
      ]
    },
    {
      "cell_type": "code",
      "source": [
        "c=grandparent()"
      ],
      "metadata": {
        "id": "SIpV5O1zL6_R"
      },
      "execution_count": 134,
      "outputs": []
    },
    {
      "cell_type": "code",
      "source": [
        "c.both_accessing()"
      ],
      "metadata": {
        "colab": {
          "base_uri": "https://localhost:8080/"
        },
        "id": "yDwIHpEYMujm",
        "outputId": "fc0f4cc4-6c0e-4a2e-8a39-3205e3ba9bc7"
      },
      "execution_count": 135,
      "outputs": [
        {
          "output_type": "stream",
          "name": "stdout",
          "text": [
            "I can able to access both the classes\n"
          ]
        }
      ]
    },
    {
      "cell_type": "code",
      "source": [
        "c.walking()"
      ],
      "metadata": {
        "colab": {
          "base_uri": "https://localhost:8080/"
        },
        "id": "tSSqbvW8MvrB",
        "outputId": "30291ffd-9a73-4ca4-8110-0f0e870ab814"
      },
      "execution_count": 136,
      "outputs": [
        {
          "output_type": "stream",
          "name": "stdout",
          "text": [
            "I am walking now\n"
          ]
        }
      ]
    },
    {
      "cell_type": "code",
      "source": [
        "c.moving()"
      ],
      "metadata": {
        "colab": {
          "base_uri": "https://localhost:8080/"
        },
        "id": "zLssex0mMxwv",
        "outputId": "a4861d86-6ee3-4320-8922-b11e7bf59269"
      },
      "execution_count": 138,
      "outputs": [
        {
          "output_type": "stream",
          "name": "stdout",
          "text": [
            "I am moving from one place to another place\n"
          ]
        }
      ]
    },
    {
      "cell_type": "code",
      "source": [],
      "metadata": {
        "id": "PNd1qsz5MzB0"
      },
      "execution_count": null,
      "outputs": []
    },
    {
      "cell_type": "markdown",
      "source": [
        "# iv) Hierarchical"
      ],
      "metadata": {
        "id": "i5nPp-ekNBKN"
      }
    },
    {
      "cell_type": "code",
      "source": [
        "class Parent:\n",
        "  def walking(self):\n",
        "    print('I am walking now')\n",
        "\n",
        "class Child1(Parent):\n",
        "  def moving(self):\n",
        "    print('I am moving from one place to another place')\n",
        "\n",
        "class Child2(Parent):\n",
        "  def both_accessing(self):\n",
        "    print('I can able to access both the classes')"
      ],
      "metadata": {
        "id": "SS7t1fQdNJsO"
      },
      "execution_count": 140,
      "outputs": []
    },
    {
      "cell_type": "code",
      "source": [
        "o=Parent()\n",
        "o.walking()"
      ],
      "metadata": {
        "colab": {
          "base_uri": "https://localhost:8080/"
        },
        "id": "V6HU6QZqNccj",
        "outputId": "f3cbdcc0-b3ac-4458-de0a-424da149c730"
      },
      "execution_count": 141,
      "outputs": [
        {
          "output_type": "stream",
          "name": "stdout",
          "text": [
            "I am walking now\n"
          ]
        }
      ]
    },
    {
      "cell_type": "code",
      "source": [
        "o1=Child1()\n",
        "o1.moving()"
      ],
      "metadata": {
        "colab": {
          "base_uri": "https://localhost:8080/"
        },
        "id": "mR0XPCi9Nk2_",
        "outputId": "7395b9b3-282e-4d12-dd78-c8d9d56da9f3"
      },
      "execution_count": 142,
      "outputs": [
        {
          "output_type": "stream",
          "name": "stdout",
          "text": [
            "I am moving from one place to another place\n"
          ]
        }
      ]
    },
    {
      "cell_type": "code",
      "source": [
        "o1.walking()"
      ],
      "metadata": {
        "colab": {
          "base_uri": "https://localhost:8080/"
        },
        "id": "AgeYiHdxNvXq",
        "outputId": "91926cde-4682-4c20-d732-1f90a9991e5d"
      },
      "execution_count": 143,
      "outputs": [
        {
          "output_type": "stream",
          "name": "stdout",
          "text": [
            "I am walking now\n"
          ]
        }
      ]
    },
    {
      "cell_type": "code",
      "source": [
        "o2=Child2()\n",
        "o2"
      ],
      "metadata": {
        "colab": {
          "base_uri": "https://localhost:8080/"
        },
        "id": "5w0SGBQ7NxF6",
        "outputId": "6b417e70-21bc-45fa-c6fc-9e5e27c99060"
      },
      "execution_count": 144,
      "outputs": [
        {
          "output_type": "execute_result",
          "data": {
            "text/plain": [
              "<__main__.Child2 at 0x7ed88ab4b890>"
            ]
          },
          "metadata": {},
          "execution_count": 144
        }
      ]
    },
    {
      "cell_type": "code",
      "source": [
        "o2.both_accessing()"
      ],
      "metadata": {
        "colab": {
          "base_uri": "https://localhost:8080/"
        },
        "id": "xBu5_TkFN5WX",
        "outputId": "3d019ca5-f3ec-4a4a-f0d4-e88510bbaf38"
      },
      "execution_count": 145,
      "outputs": [
        {
          "output_type": "stream",
          "name": "stdout",
          "text": [
            "I can able to access both the classes\n"
          ]
        }
      ]
    },
    {
      "cell_type": "code",
      "source": [
        "o2.walking()"
      ],
      "metadata": {
        "colab": {
          "base_uri": "https://localhost:8080/"
        },
        "id": "U5asnuChN8bU",
        "outputId": "ba4a82d3-eb46-4103-dbad-527fe850c8dc"
      },
      "execution_count": 146,
      "outputs": [
        {
          "output_type": "stream",
          "name": "stdout",
          "text": [
            "I am walking now\n"
          ]
        }
      ]
    },
    {
      "cell_type": "markdown",
      "source": [
        "# Polymorphism"
      ],
      "metadata": {
        "id": "b9sOWgjPOT-n"
      }
    },
    {
      "cell_type": "code",
      "source": [
        "class Addition:\n",
        "  def result(self,a,b=0,c=0):\n",
        "    return a+b+c"
      ],
      "metadata": {
        "id": "P--mdfb9OKNK"
      },
      "execution_count": 148,
      "outputs": []
    },
    {
      "cell_type": "code",
      "source": [
        "o=Addition()\n",
        "o.result(1,2,3)"
      ],
      "metadata": {
        "colab": {
          "base_uri": "https://localhost:8080/"
        },
        "id": "brfjlPA2O7Tu",
        "outputId": "0933b97f-6f2e-4ba0-a5d9-99f311ac93a0"
      },
      "execution_count": 150,
      "outputs": [
        {
          "output_type": "execute_result",
          "data": {
            "text/plain": [
              "6"
            ]
          },
          "metadata": {},
          "execution_count": 150
        }
      ]
    },
    {
      "cell_type": "code",
      "source": [
        "o.result(1,2)"
      ],
      "metadata": {
        "colab": {
          "base_uri": "https://localhost:8080/"
        },
        "id": "dY71wGPiPBbm",
        "outputId": "4819bed1-fd3d-4dd0-d018-680e66407131"
      },
      "execution_count": 151,
      "outputs": [
        {
          "output_type": "execute_result",
          "data": {
            "text/plain": [
              "3"
            ]
          },
          "metadata": {},
          "execution_count": 151
        }
      ]
    },
    {
      "cell_type": "code",
      "source": [
        "o.result(1)"
      ],
      "metadata": {
        "colab": {
          "base_uri": "https://localhost:8080/"
        },
        "id": "TWGd6XF_PIBR",
        "outputId": "39b17207-67f2-41c6-d291-56b257b57369"
      },
      "execution_count": 152,
      "outputs": [
        {
          "output_type": "execute_result",
          "data": {
            "text/plain": [
              "1"
            ]
          },
          "metadata": {},
          "execution_count": 152
        }
      ]
    },
    {
      "cell_type": "code",
      "source": [
        "class A:\n",
        "  def speak(self):\n",
        "    print('I am speaking')     # It will override\n",
        "class B(A):\n",
        "  def speak(self):            # It will return\n",
        "    print('I am not speaking')"
      ],
      "metadata": {
        "id": "ggAJG4SKPNg9"
      },
      "execution_count": 153,
      "outputs": []
    },
    {
      "cell_type": "code",
      "source": [
        "o=B()\n",
        "o.speak()"
      ],
      "metadata": {
        "colab": {
          "base_uri": "https://localhost:8080/"
        },
        "id": "wDkIJzjSPnRr",
        "outputId": "6ab36a81-15a3-4325-ca7c-d50889c977ee"
      },
      "execution_count": 157,
      "outputs": [
        {
          "output_type": "stream",
          "name": "stdout",
          "text": [
            "I am not speaking\n"
          ]
        }
      ]
    },
    {
      "cell_type": "code",
      "source": [
        "o.speak()"
      ],
      "metadata": {
        "colab": {
          "base_uri": "https://localhost:8080/"
        },
        "id": "vMQvSkVcPvd-",
        "outputId": "f3cbe280-182b-40b5-f8e9-5241ea903bf4"
      },
      "execution_count": 158,
      "outputs": [
        {
          "output_type": "stream",
          "name": "stdout",
          "text": [
            "I am not speaking\n"
          ]
        }
      ]
    },
    {
      "cell_type": "code",
      "source": [
        "o.speak()"
      ],
      "metadata": {
        "colab": {
          "base_uri": "https://localhost:8080/"
        },
        "id": "6IAvD5FMPy5g",
        "outputId": "72bc88f3-d3d0-4d4f-a77e-ee7acee7eb56"
      },
      "execution_count": 159,
      "outputs": [
        {
          "output_type": "stream",
          "name": "stdout",
          "text": [
            "I am not speaking\n"
          ]
        }
      ]
    },
    {
      "cell_type": "code",
      "source": [],
      "metadata": {
        "id": "UNBOOqM4P2gm"
      },
      "execution_count": null,
      "outputs": []
    }
  ]
}