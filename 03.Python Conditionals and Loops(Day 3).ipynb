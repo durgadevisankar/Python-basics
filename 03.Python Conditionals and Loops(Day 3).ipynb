{
  "nbformat": 4,
  "nbformat_minor": 0,
  "metadata": {
    "colab": {
      "provenance": []
    },
    "kernelspec": {
      "name": "python3",
      "display_name": "Python 3"
    },
    "language_info": {
      "name": "python"
    }
  },
  "cells": [
    {
      "cell_type": "markdown",
      "source": [
        "# Conditional Statements"
      ],
      "metadata": {
        "id": "tez3q71AzAFM"
      }
    },
    {
      "cell_type": "code",
      "source": [
        "x=int(input())\n",
        "if x>18:\n",
        "  print('Candidate is eligible for the election')\n",
        "else:\n",
        "  print('Candidate is not eligible for the election')"
      ],
      "metadata": {
        "colab": {
          "base_uri": "https://localhost:8080/"
        },
        "id": "bkKYE-kzc_5v",
        "outputId": "34128223-b386-4a67-e44f-a4e6caf73c01"
      },
      "execution_count": null,
      "outputs": [
        {
          "output_type": "stream",
          "name": "stdout",
          "text": [
            "20\n",
            "Candidate is eligible for the election\n"
          ]
        }
      ]
    },
    {
      "cell_type": "code",
      "source": [
        "a=10\n",
        "b=20\n",
        "if a>b:  # 10>20\n",
        "  print('A is maximum')\n",
        "else:\n",
        "  print('B is maximum')"
      ],
      "metadata": {
        "colab": {
          "base_uri": "https://localhost:8080/"
        },
        "id": "pLXfMQ70oy09",
        "outputId": "72e2bc57-1fa6-41ba-c1e5-939a02c4891f"
      },
      "execution_count": null,
      "outputs": [
        {
          "output_type": "stream",
          "name": "stdout",
          "text": [
            "B is maximum\n"
          ]
        }
      ]
    },
    {
      "cell_type": "code",
      "source": [
        "a=10\n",
        "b=5\n",
        "if a>b:\n",
        "  print('A is maximum')\n",
        "elif a<b:\n",
        "  print('B is maximum')\n",
        "else:\n",
        "  print('Both are equal')"
      ],
      "metadata": {
        "colab": {
          "base_uri": "https://localhost:8080/"
        },
        "id": "Vm2hEytfqbO2",
        "outputId": "8f36fa1d-79d6-472e-dcd0-703e6fd39fb5"
      },
      "execution_count": null,
      "outputs": [
        {
          "output_type": "stream",
          "name": "stdout",
          "text": [
            "A is maximum\n"
          ]
        }
      ]
    },
    {
      "cell_type": "code",
      "source": [
        "a=int(input())\n",
        "if a>0:\n",
        "  print('Positive')\n",
        "elif a<0:\n",
        "  print('Negative')\n",
        "else:\n",
        "  print('Zero')"
      ],
      "metadata": {
        "colab": {
          "base_uri": "https://localhost:8080/"
        },
        "id": "HMwyrMQsrg7E",
        "outputId": "5ea8a026-c694-4e09-8b60-3ee114a88957"
      },
      "execution_count": null,
      "outputs": [
        {
          "output_type": "stream",
          "name": "stdout",
          "text": [
            "4\n",
            "Positive\n"
          ]
        }
      ]
    },
    {
      "cell_type": "code",
      "source": [
        "marks=int(input())\n",
        "if marks>=90:\n",
        "  print('Grade A')\n",
        "elif marks>=80:\n",
        "  print('Grade B')\n",
        "elif marks>=70:\n",
        "  print('Grade C')\n",
        "elif marks>=60:\n",
        "  print('Grade D')\n",
        "else:\n",
        "  print('Grade E')"
      ],
      "metadata": {
        "colab": {
          "base_uri": "https://localhost:8080/"
        },
        "id": "LOifIQ1BtULu",
        "outputId": "19ca2697-b173-480e-c547-e28318ab6ecc"
      },
      "execution_count": null,
      "outputs": [
        {
          "output_type": "stream",
          "name": "stdout",
          "text": [
            "36\n",
            "Grade E\n"
          ]
        }
      ]
    },
    {
      "cell_type": "code",
      "source": [],
      "metadata": {
        "id": "jYfd6fQUwT56"
      },
      "execution_count": null,
      "outputs": []
    },
    {
      "cell_type": "markdown",
      "source": [
        "# Logical Operators\n",
        "\n",
        "AND, OR , NOT"
      ],
      "metadata": {
        "id": "Xm9ZSNZMxBjC"
      }
    },
    {
      "cell_type": "code",
      "source": [
        "a=10\n",
        "b=15\n",
        "a,b"
      ],
      "metadata": {
        "colab": {
          "base_uri": "https://localhost:8080/"
        },
        "id": "CH2_ykpfxKJl",
        "outputId": "18b95785-79a9-4975-a3f3-5e2b79d75572"
      },
      "execution_count": null,
      "outputs": [
        {
          "output_type": "execute_result",
          "data": {
            "text/plain": [
              "(10, 15)"
            ]
          },
          "metadata": {},
          "execution_count": 41
        }
      ]
    },
    {
      "cell_type": "code",
      "source": [
        "if a>10 and b>10:  # a>10 failed  b>10  is satisfy\n",
        "  print('Both are greater than 10')\n",
        "else:\n",
        "  print('Both are not greater than 10')"
      ],
      "metadata": {
        "colab": {
          "base_uri": "https://localhost:8080/"
        },
        "id": "ipaxV7YrxM8f",
        "outputId": "d601fde0-65ce-4e2e-cd3d-807a36292558"
      },
      "execution_count": null,
      "outputs": [
        {
          "output_type": "stream",
          "name": "stdout",
          "text": [
            "Both are not greater than 10\n"
          ]
        }
      ]
    },
    {
      "cell_type": "code",
      "source": [
        "if a>10 or b>10:  # a>10 failed  b>10  is satisfy\n",
        "  print('Both are greater than 10')\n",
        "else:\n",
        "  print('Both are not greater than 10')"
      ],
      "metadata": {
        "colab": {
          "base_uri": "https://localhost:8080/"
        },
        "id": "vOIoid3GxYjb",
        "outputId": "0c2978fb-a604-42e9-dc71-62d4a6bfe8c6"
      },
      "execution_count": null,
      "outputs": [
        {
          "output_type": "stream",
          "name": "stdout",
          "text": [
            "Both are greater than 10\n"
          ]
        }
      ]
    },
    {
      "cell_type": "code",
      "source": [],
      "metadata": {
        "id": "dIBAHEj_x3BA"
      },
      "execution_count": null,
      "outputs": []
    },
    {
      "cell_type": "markdown",
      "source": [
        "# Loops"
      ],
      "metadata": {
        "id": "XgvmkRrKy5fi"
      }
    },
    {
      "cell_type": "code",
      "source": [
        "x=[1,2,3,4,5,6]\n",
        "for i in x:\n",
        "  print(i)"
      ],
      "metadata": {
        "colab": {
          "base_uri": "https://localhost:8080/"
        },
        "id": "LcX6ZBxHy8ya",
        "outputId": "67ec6d15-cb84-453e-cb98-2a56da545e05"
      },
      "execution_count": null,
      "outputs": [
        {
          "output_type": "stream",
          "name": "stdout",
          "text": [
            "1\n",
            "2\n",
            "3\n",
            "4\n",
            "5\n",
            "6\n"
          ]
        }
      ]
    },
    {
      "cell_type": "code",
      "source": [
        "y=[3,4,6,16,85,33]\n",
        "for i in y:\n",
        "  print(i)"
      ],
      "metadata": {
        "colab": {
          "base_uri": "https://localhost:8080/"
        },
        "id": "7NZhKH51zMcL",
        "outputId": "1cef386d-ef0d-4350-c4b7-f0e306ec0a60"
      },
      "execution_count": null,
      "outputs": [
        {
          "output_type": "stream",
          "name": "stdout",
          "text": [
            "3\n",
            "4\n",
            "6\n",
            "16\n",
            "85\n",
            "33\n"
          ]
        }
      ]
    },
    {
      "cell_type": "code",
      "source": [
        "n=0\n",
        "while n<5:\n",
        "  print(n)\n",
        "  n=n+1"
      ],
      "metadata": {
        "colab": {
          "base_uri": "https://localhost:8080/"
        },
        "id": "Hrl6UGqxzaZY",
        "outputId": "ba1c5d6f-daeb-4749-bc48-ce31f0bec0ee"
      },
      "execution_count": null,
      "outputs": [
        {
          "output_type": "stream",
          "name": "stdout",
          "text": [
            "0\n",
            "1\n",
            "2\n",
            "3\n",
            "4\n"
          ]
        }
      ]
    },
    {
      "cell_type": "code",
      "source": [
        "#  Example for infinite Loop\n",
        "# Because we are not updating the value of n\n",
        "n=0\n",
        "while n<5:\n",
        "  print(n)"
      ],
      "metadata": {
        "id": "PFrCr2js1nzQ"
      },
      "execution_count": null,
      "outputs": []
    },
    {
      "cell_type": "code",
      "source": [
        "# Range function\n",
        "for i in range(1,10,1):\n",
        "  print(i)"
      ],
      "metadata": {
        "colab": {
          "base_uri": "https://localhost:8080/"
        },
        "id": "rypOMDYR2h39",
        "outputId": "c42cba46-601a-4177-88cb-abc325c984f8"
      },
      "execution_count": null,
      "outputs": [
        {
          "output_type": "stream",
          "name": "stdout",
          "text": [
            "1\n",
            "2\n",
            "3\n",
            "4\n",
            "5\n",
            "6\n",
            "7\n",
            "8\n",
            "9\n"
          ]
        }
      ]
    },
    {
      "cell_type": "code",
      "source": [
        "# Default step size is 1.\n",
        "for i in range(1,10):\n",
        "  print(i)"
      ],
      "metadata": {
        "colab": {
          "base_uri": "https://localhost:8080/"
        },
        "id": "dLiqgE3s3f2g",
        "outputId": "b733698b-3055-4f91-e9e6-a557309db226"
      },
      "execution_count": null,
      "outputs": [
        {
          "output_type": "stream",
          "name": "stdout",
          "text": [
            "1\n",
            "2\n",
            "3\n",
            "4\n",
            "5\n",
            "6\n",
            "7\n",
            "8\n",
            "9\n"
          ]
        }
      ]
    },
    {
      "cell_type": "code",
      "source": [
        "# Default start value is zero.\n",
        "for i in range(10):\n",
        "  print(i)"
      ],
      "metadata": {
        "colab": {
          "base_uri": "https://localhost:8080/"
        },
        "id": "e2zj4YrX4fPO",
        "outputId": "8092b664-0c73-4fd0-8fae-8958c16e7b19"
      },
      "execution_count": null,
      "outputs": [
        {
          "output_type": "stream",
          "name": "stdout",
          "text": [
            "0\n",
            "1\n",
            "2\n",
            "3\n",
            "4\n",
            "5\n",
            "6\n",
            "7\n",
            "8\n",
            "9\n"
          ]
        }
      ]
    },
    {
      "cell_type": "code",
      "source": [
        "# Break\n",
        "for i in range(5):\n",
        "  if i==3:   # 0,1,2,3\n",
        "    break\n",
        "  print(i)  # 0,1,2"
      ],
      "metadata": {
        "colab": {
          "base_uri": "https://localhost:8080/"
        },
        "id": "pXp9ylmo4kxu",
        "outputId": "92656b06-8587-4067-ab8a-9b0fd4c4e815"
      },
      "execution_count": null,
      "outputs": [
        {
          "output_type": "stream",
          "name": "stdout",
          "text": [
            "0\n",
            "1\n",
            "2\n"
          ]
        }
      ]
    },
    {
      "cell_type": "code",
      "source": [
        "# Continue\n",
        "for i in range(5):\n",
        "  if i==3:\n",
        "    continue\n",
        "  print(i)"
      ],
      "metadata": {
        "colab": {
          "base_uri": "https://localhost:8080/"
        },
        "id": "9Mmxp4ol6tY5",
        "outputId": "6c983311-7d6f-4f7a-a137-5703f7c4a61d"
      },
      "execution_count": null,
      "outputs": [
        {
          "output_type": "stream",
          "name": "stdout",
          "text": [
            "0\n",
            "1\n",
            "2\n",
            "4\n"
          ]
        }
      ]
    },
    {
      "cell_type": "code",
      "source": [
        "# Continue\n",
        "for i in range(5):\n",
        "  if i==2:\n",
        "    continue\n",
        "  print(i)"
      ],
      "metadata": {
        "colab": {
          "base_uri": "https://localhost:8080/"
        },
        "id": "gmfCVOMA7Q66",
        "outputId": "9e3d0244-0ffa-43c1-e596-cb921e9edcd3"
      },
      "execution_count": null,
      "outputs": [
        {
          "output_type": "stream",
          "name": "stdout",
          "text": [
            "0\n",
            "1\n",
            "3\n",
            "4\n"
          ]
        }
      ]
    },
    {
      "cell_type": "code",
      "source": [
        "# Pass\n",
        "for i in range(5):\n",
        "  if i==3:\n",
        "    pass\n",
        "  print(i)"
      ],
      "metadata": {
        "colab": {
          "base_uri": "https://localhost:8080/"
        },
        "id": "z7WXZObY7hnc",
        "outputId": "28a9d37d-a3f1-4247-dee9-0365245662e4"
      },
      "execution_count": null,
      "outputs": [
        {
          "output_type": "stream",
          "name": "stdout",
          "text": [
            "0\n",
            "1\n",
            "2\n",
            "3\n",
            "4\n"
          ]
        }
      ]
    },
    {
      "cell_type": "code",
      "source": [
        "for i in range(5):    # start=0,step=1\n",
        "  print(i)"
      ],
      "metadata": {
        "colab": {
          "base_uri": "https://localhost:8080/"
        },
        "id": "xdVHTqsm7oxi",
        "outputId": "22b7c817-b85f-4f28-e2eb-f26a12305685"
      },
      "execution_count": null,
      "outputs": [
        {
          "output_type": "stream",
          "name": "stdout",
          "text": [
            "0\n",
            "1\n",
            "2\n",
            "3\n",
            "4\n"
          ]
        }
      ]
    },
    {
      "cell_type": "code",
      "source": [],
      "metadata": {
        "id": "eeS_h_-P7xqY"
      },
      "execution_count": null,
      "outputs": []
    }
  ]
}