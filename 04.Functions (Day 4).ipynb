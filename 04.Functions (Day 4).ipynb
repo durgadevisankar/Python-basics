{
  "nbformat": 4,
  "nbformat_minor": 0,
  "metadata": {
    "colab": {
      "provenance": []
    },
    "kernelspec": {
      "name": "python3",
      "display_name": "Python 3"
    },
    "language_info": {
      "name": "python"
    }
  },
  "cells": [
    {
      "cell_type": "markdown",
      "source": [
        "# Functions"
      ],
      "metadata": {
        "id": "Uc8Mr90I0tK5"
      }
    },
    {
      "cell_type": "code",
      "source": [
        "def basic():\n",
        "  print('Hello')"
      ],
      "metadata": {
        "id": "SdgXtr6Fr9xB"
      },
      "execution_count": 12,
      "outputs": []
    },
    {
      "cell_type": "code",
      "source": [
        "basic()"
      ],
      "metadata": {
        "colab": {
          "base_uri": "https://localhost:8080/"
        },
        "id": "1F-nN4IGxyw3",
        "outputId": "da8a12b2-8e33-4b7c-a96d-04ca6468b710"
      },
      "execution_count": 15,
      "outputs": [
        {
          "output_type": "stream",
          "name": "stdout",
          "text": [
            "Hello\n"
          ]
        }
      ]
    },
    {
      "cell_type": "code",
      "source": [
        "def details(name,age):\n",
        "  print('Name of the student is ',name,'and age is ',age)"
      ],
      "metadata": {
        "id": "4a9zUe1sx70b"
      },
      "execution_count": 16,
      "outputs": []
    },
    {
      "cell_type": "code",
      "source": [
        "details('sunil',30)"
      ],
      "metadata": {
        "colab": {
          "base_uri": "https://localhost:8080/"
        },
        "id": "FEA__L_Fy4AZ",
        "outputId": "df932e02-cb81-4793-e222-5c5158c31e09"
      },
      "execution_count": 19,
      "outputs": [
        {
          "output_type": "stream",
          "name": "stdout",
          "text": [
            "Name of the student is  sunil and age is  30\n"
          ]
        }
      ]
    },
    {
      "cell_type": "code",
      "source": [
        "details('karthik',60)"
      ],
      "metadata": {
        "colab": {
          "base_uri": "https://localhost:8080/"
        },
        "id": "ybnuiUUUy6zK",
        "outputId": "a00d6446-1e6e-4285-c104-80d3cfc8914a"
      },
      "execution_count": 20,
      "outputs": [
        {
          "output_type": "stream",
          "name": "stdout",
          "text": [
            "Name of the student is  karthik and age is  60\n"
          ]
        }
      ]
    },
    {
      "cell_type": "code",
      "source": [
        "name='kumar'\n",
        "age=30\n",
        "print('Name of the student is',name,'and age is ',age)"
      ],
      "metadata": {
        "colab": {
          "base_uri": "https://localhost:8080/"
        },
        "id": "64scH34lzmCL",
        "outputId": "88e48af8-7f07-4c08-a9ca-146ede328ee4"
      },
      "execution_count": 21,
      "outputs": [
        {
          "output_type": "stream",
          "name": "stdout",
          "text": [
            "Name of the student is kumar and age is  30\n"
          ]
        }
      ]
    },
    {
      "cell_type": "code",
      "source": [
        "name='florent'\n",
        "age=25\n",
        "print('Name of the student is',name,'and age is ',age)"
      ],
      "metadata": {
        "colab": {
          "base_uri": "https://localhost:8080/"
        },
        "id": "oV7bsjBWz03b",
        "outputId": "b3e5c1bd-5869-4fde-8f0a-fb6d8c8a63bd"
      },
      "execution_count": 22,
      "outputs": [
        {
          "output_type": "stream",
          "name": "stdout",
          "text": [
            "Name of the student is florent and age is  25\n"
          ]
        }
      ]
    },
    {
      "cell_type": "code",
      "source": [
        "details('florent',25)"
      ],
      "metadata": {
        "colab": {
          "base_uri": "https://localhost:8080/"
        },
        "id": "Mk2-YKpO0KgY",
        "outputId": "2ce950d2-b7c3-4714-de4a-54d4bf99dadb"
      },
      "execution_count": 23,
      "outputs": [
        {
          "output_type": "stream",
          "name": "stdout",
          "text": [
            "Name of the student is  florent and age is  25\n"
          ]
        }
      ]
    },
    {
      "cell_type": "code",
      "source": [
        "details('amal',23)"
      ],
      "metadata": {
        "colab": {
          "base_uri": "https://localhost:8080/"
        },
        "id": "Am8KSLXx0ifc",
        "outputId": "94a5c61e-be88-4a5d-8aff-6786d76505a9"
      },
      "execution_count": 25,
      "outputs": [
        {
          "output_type": "stream",
          "name": "stdout",
          "text": [
            "Name of the student is  amal and age is  23\n"
          ]
        }
      ]
    },
    {
      "cell_type": "code",
      "source": [
        "details('magic',34)"
      ],
      "metadata": {
        "colab": {
          "base_uri": "https://localhost:8080/"
        },
        "id": "Z3cQwlhs0_PW",
        "outputId": "8a39cce9-ba86-4583-d9cb-102970cf5b35"
      },
      "execution_count": 29,
      "outputs": [
        {
          "output_type": "stream",
          "name": "stdout",
          "text": [
            "Name of the student is  magic and age is  34\n"
          ]
        }
      ]
    },
    {
      "cell_type": "code",
      "source": [
        "s='sunil'\n",
        "s"
      ],
      "metadata": {
        "colab": {
          "base_uri": "https://localhost:8080/",
          "height": 35
        },
        "id": "PI3Nao8i1c_8",
        "outputId": "8d68cbcd-e241-4d1d-d336-13cfea9cd4a4"
      },
      "execution_count": 28,
      "outputs": [
        {
          "output_type": "execute_result",
          "data": {
            "text/plain": [
              "'sunil'"
            ],
            "application/vnd.google.colaboratory.intrinsic+json": {
              "type": "string"
            }
          },
          "metadata": {},
          "execution_count": 28
        }
      ]
    },
    {
      "cell_type": "code",
      "source": [
        "a=45\n",
        "a"
      ],
      "metadata": {
        "colab": {
          "base_uri": "https://localhost:8080/"
        },
        "id": "ireuELqK1i_a",
        "outputId": "fbc1715d-5b01-4d2e-d96f-22af8c967ebf"
      },
      "execution_count": 30,
      "outputs": [
        {
          "output_type": "execute_result",
          "data": {
            "text/plain": [
              "45"
            ]
          },
          "metadata": {},
          "execution_count": 30
        }
      ]
    },
    {
      "cell_type": "markdown",
      "source": [
        "#i) Built in Functions"
      ],
      "metadata": {
        "id": "Mimnq8dR2gia"
      }
    },
    {
      "cell_type": "code",
      "source": [
        "x=[1,2,3,4,5]\n",
        "x"
      ],
      "metadata": {
        "colab": {
          "base_uri": "https://localhost:8080/"
        },
        "id": "H0t_7WsM1yG8",
        "outputId": "cf8b28fd-8410-4f21-ad7b-395cf97af09f"
      },
      "execution_count": 31,
      "outputs": [
        {
          "output_type": "execute_result",
          "data": {
            "text/plain": [
              "[1, 2, 3, 4, 5]"
            ]
          },
          "metadata": {},
          "execution_count": 31
        }
      ]
    },
    {
      "cell_type": "code",
      "source": [
        "len(x)"
      ],
      "metadata": {
        "colab": {
          "base_uri": "https://localhost:8080/"
        },
        "id": "oyqhsgae2fKo",
        "outputId": "e7a976e6-8376-4bc1-cfce-55c6e2c22df9"
      },
      "execution_count": 32,
      "outputs": [
        {
          "output_type": "execute_result",
          "data": {
            "text/plain": [
              "5"
            ]
          },
          "metadata": {},
          "execution_count": 32
        }
      ]
    },
    {
      "cell_type": "code",
      "source": [],
      "metadata": {
        "id": "jhBuqXyS22bN"
      },
      "execution_count": null,
      "outputs": []
    },
    {
      "cell_type": "markdown",
      "source": [
        "# Working of len function"
      ],
      "metadata": {
        "id": "-QjpkbgI3A2z"
      }
    },
    {
      "cell_type": "code",
      "source": [
        "len(x)"
      ],
      "metadata": {
        "colab": {
          "base_uri": "https://localhost:8080/"
        },
        "id": "wFkxoTrf3EN_",
        "outputId": "3bca624a-baea-4b21-c48d-b11f009ca108"
      },
      "execution_count": 33,
      "outputs": [
        {
          "output_type": "execute_result",
          "data": {
            "text/plain": [
              "5"
            ]
          },
          "metadata": {},
          "execution_count": 33
        }
      ]
    },
    {
      "cell_type": "code",
      "source": [
        "def length(x):\n",
        "  count=0\n",
        "  for i in x:\n",
        "    count+=1\n",
        "  return count\n",
        "length(x)"
      ],
      "metadata": {
        "colab": {
          "base_uri": "https://localhost:8080/"
        },
        "id": "Z5kmW3EO3FQn",
        "outputId": "e8a2025c-3fa2-4f61-de2d-720b189a71cc"
      },
      "execution_count": 34,
      "outputs": [
        {
          "output_type": "execute_result",
          "data": {
            "text/plain": [
              "5"
            ]
          },
          "metadata": {},
          "execution_count": 34
        }
      ]
    },
    {
      "cell_type": "code",
      "source": [
        "x"
      ],
      "metadata": {
        "colab": {
          "base_uri": "https://localhost:8080/"
        },
        "id": "5QFAUw4j4W9Z",
        "outputId": "05e10f62-3eb4-4fb3-865d-17e6a5d5350d"
      },
      "execution_count": 36,
      "outputs": [
        {
          "output_type": "execute_result",
          "data": {
            "text/plain": [
              "[1, 2, 3, 4, 5]"
            ]
          },
          "metadata": {},
          "execution_count": 36
        }
      ]
    },
    {
      "cell_type": "code",
      "source": [
        "sum(x)"
      ],
      "metadata": {
        "colab": {
          "base_uri": "https://localhost:8080/"
        },
        "id": "07R3XC8T3Qyu",
        "outputId": "3d7460d5-ffeb-4b72-ada3-171a2ad3a529"
      },
      "execution_count": 35,
      "outputs": [
        {
          "output_type": "execute_result",
          "data": {
            "text/plain": [
              "15"
            ]
          },
          "metadata": {},
          "execution_count": 35
        }
      ]
    },
    {
      "cell_type": "markdown",
      "source": [
        "# ii) User Defined Functions"
      ],
      "metadata": {
        "id": "PWRE7LKn3_iS"
      }
    },
    {
      "cell_type": "code",
      "source": [
        "def multiplication(a,b):\n",
        "  return a*b\n",
        "multiplication(2,3)"
      ],
      "metadata": {
        "colab": {
          "base_uri": "https://localhost:8080/"
        },
        "id": "0U0mVc-S4DXw",
        "outputId": "3f94cf9d-a768-4b9e-8512-c860a79b9115"
      },
      "execution_count": 37,
      "outputs": [
        {
          "output_type": "execute_result",
          "data": {
            "text/plain": [
              "6"
            ]
          },
          "metadata": {},
          "execution_count": 37
        }
      ]
    },
    {
      "cell_type": "code",
      "source": [
        "multiplication(4,5)"
      ],
      "metadata": {
        "colab": {
          "base_uri": "https://localhost:8080/"
        },
        "id": "7ydjzII54f7d",
        "outputId": "3981d32f-b9f9-48ae-eed2-5b9bb9340e2d"
      },
      "execution_count": 38,
      "outputs": [
        {
          "output_type": "execute_result",
          "data": {
            "text/plain": [
              "20"
            ]
          },
          "metadata": {},
          "execution_count": 38
        }
      ]
    },
    {
      "cell_type": "code",
      "source": [
        "details('likhith',30)"
      ],
      "metadata": {
        "colab": {
          "base_uri": "https://localhost:8080/"
        },
        "id": "RWMDfMxz4iWF",
        "outputId": "cb826258-b053-4136-9937-04e2d22b51f1"
      },
      "execution_count": 39,
      "outputs": [
        {
          "output_type": "stream",
          "name": "stdout",
          "text": [
            "Name of the student is  likhith and age is  30\n"
          ]
        }
      ]
    },
    {
      "cell_type": "code",
      "source": [
        "def even_odd(a):\n",
        "  if a%2==0:\n",
        "    return 'Even'\n",
        "  else:\n",
        "    return 'Odd'"
      ],
      "metadata": {
        "id": "OdoRKxs342q-"
      },
      "execution_count": 40,
      "outputs": []
    },
    {
      "cell_type": "code",
      "source": [
        "even_odd(10)"
      ],
      "metadata": {
        "colab": {
          "base_uri": "https://localhost:8080/",
          "height": 35
        },
        "id": "Zg25k8rS5bKY",
        "outputId": "28a670da-4b35-4019-9ca0-67da982b4dda"
      },
      "execution_count": 41,
      "outputs": [
        {
          "output_type": "execute_result",
          "data": {
            "text/plain": [
              "'Even'"
            ],
            "application/vnd.google.colaboratory.intrinsic+json": {
              "type": "string"
            }
          },
          "metadata": {},
          "execution_count": 41
        }
      ]
    },
    {
      "cell_type": "code",
      "source": [
        "even_odd(17)"
      ],
      "metadata": {
        "colab": {
          "base_uri": "https://localhost:8080/",
          "height": 35
        },
        "id": "44QMA7er5eMG",
        "outputId": "7ca5c408-adc9-4878-8a7e-38b8096df088"
      },
      "execution_count": 42,
      "outputs": [
        {
          "output_type": "execute_result",
          "data": {
            "text/plain": [
              "'Odd'"
            ],
            "application/vnd.google.colaboratory.intrinsic+json": {
              "type": "string"
            }
          },
          "metadata": {},
          "execution_count": 42
        }
      ]
    },
    {
      "cell_type": "code",
      "source": [],
      "metadata": {
        "id": "_3cRcceq5i2l"
      },
      "execution_count": null,
      "outputs": []
    },
    {
      "cell_type": "markdown",
      "source": [
        "#iii) Anonymous Function(Lambda)"
      ],
      "metadata": {
        "id": "B5WVj-QN51N2"
      }
    },
    {
      "cell_type": "code",
      "source": [
        "def addition(a,b):\n",
        "  return a+b\n",
        "addition(10,20)"
      ],
      "metadata": {
        "colab": {
          "base_uri": "https://localhost:8080/"
        },
        "id": "PCk6-rOQ57gX",
        "outputId": "ff215be3-500d-4161-c321-b0c3fe8b27d5"
      },
      "execution_count": 43,
      "outputs": [
        {
          "output_type": "execute_result",
          "data": {
            "text/plain": [
              "30"
            ]
          },
          "metadata": {},
          "execution_count": 43
        }
      ]
    },
    {
      "cell_type": "code",
      "source": [
        "x=lambda a,b:a+b\n",
        "x(10,20)"
      ],
      "metadata": {
        "colab": {
          "base_uri": "https://localhost:8080/"
        },
        "id": "s2Tj8G816ofl",
        "outputId": "c8c7ac13-0877-47a5-8a2d-f7cfe6090a43"
      },
      "execution_count": 47,
      "outputs": [
        {
          "output_type": "execute_result",
          "data": {
            "text/plain": [
              "30"
            ]
          },
          "metadata": {},
          "execution_count": 47
        }
      ]
    },
    {
      "cell_type": "code",
      "source": [
        "even=lambda a:'Even' if a%2==0 else 'Odd'\n",
        "even(10)"
      ],
      "metadata": {
        "colab": {
          "base_uri": "https://localhost:8080/",
          "height": 35
        },
        "id": "nZMlrvLx68CA",
        "outputId": "916ef441-74bd-449e-b88f-42a387b45072"
      },
      "execution_count": 48,
      "outputs": [
        {
          "output_type": "execute_result",
          "data": {
            "text/plain": [
              "'Even'"
            ],
            "application/vnd.google.colaboratory.intrinsic+json": {
              "type": "string"
            }
          },
          "metadata": {},
          "execution_count": 48
        }
      ]
    },
    {
      "cell_type": "markdown",
      "source": [
        "# iv) Recursive Function"
      ],
      "metadata": {
        "id": "ONOIqCZS8A1l"
      }
    },
    {
      "cell_type": "code",
      "source": [
        "def fact(n):\n",
        "  if n<0:\n",
        "    return 'Invalid'\n",
        "  elif n==0:\n",
        "    return 1\n",
        "  elif n==1:\n",
        "    return 1\n",
        "  else:\n",
        "    return n*fact(n-1)    # 5x4x3x2x1 = 120"
      ],
      "metadata": {
        "id": "4aWqRzWP7cfd"
      },
      "execution_count": 49,
      "outputs": []
    },
    {
      "cell_type": "code",
      "source": [
        "fact(5)"
      ],
      "metadata": {
        "colab": {
          "base_uri": "https://localhost:8080/"
        },
        "id": "-IumM2zB-RgO",
        "outputId": "37ab076f-04c0-405c-f5b3-8de26b02c8fd"
      },
      "execution_count": 50,
      "outputs": [
        {
          "output_type": "execute_result",
          "data": {
            "text/plain": [
              "120"
            ]
          },
          "metadata": {},
          "execution_count": 50
        }
      ]
    },
    {
      "cell_type": "code",
      "source": [],
      "metadata": {
        "id": "w-rvpMqU-S5b"
      },
      "execution_count": null,
      "outputs": []
    },
    {
      "cell_type": "markdown",
      "source": [
        "# Map"
      ],
      "metadata": {
        "id": "tHhnr1bw_GE3"
      }
    },
    {
      "cell_type": "code",
      "source": [
        "def even_odd(a):\n",
        "  if a%2==0:\n",
        "    return 'Even'\n",
        "  else:\n",
        "    return 'Odd'"
      ],
      "metadata": {
        "id": "XHwF5t83_IN5"
      },
      "execution_count": 51,
      "outputs": []
    },
    {
      "cell_type": "code",
      "source": [
        "even_odd(20)"
      ],
      "metadata": {
        "colab": {
          "base_uri": "https://localhost:8080/",
          "height": 35
        },
        "id": "iqpWd-6i_RHj",
        "outputId": "953443e0-e349-4a01-a05f-681a678ad913"
      },
      "execution_count": 52,
      "outputs": [
        {
          "output_type": "execute_result",
          "data": {
            "text/plain": [
              "'Even'"
            ],
            "application/vnd.google.colaboratory.intrinsic+json": {
              "type": "string"
            }
          },
          "metadata": {},
          "execution_count": 52
        }
      ]
    },
    {
      "cell_type": "code",
      "source": [
        "x=[10,20,25,30,35]"
      ],
      "metadata": {
        "id": "lleugbKU_h_k"
      },
      "execution_count": 54,
      "outputs": []
    },
    {
      "cell_type": "code",
      "source": [
        "list(map(even_odd,x))"
      ],
      "metadata": {
        "colab": {
          "base_uri": "https://localhost:8080/"
        },
        "id": "sITInzha_Sy_",
        "outputId": "0b244cab-517d-4c55-893e-306eb7ed9b7a"
      },
      "execution_count": 57,
      "outputs": [
        {
          "output_type": "execute_result",
          "data": {
            "text/plain": [
              "['Even', 'Even', 'Odd', 'Even', 'Odd']"
            ]
          },
          "metadata": {},
          "execution_count": 57
        }
      ]
    },
    {
      "cell_type": "code",
      "source": [
        "def even_odd(a):\n",
        "  if a%2==0:\n",
        "    return 'Even'\n",
        "  else:\n",
        "    return 'Odd'\n",
        "list(map(even_odd,x))"
      ],
      "metadata": {
        "colab": {
          "base_uri": "https://localhost:8080/"
        },
        "id": "N0ryzO4VAfl7",
        "outputId": "949db3fc-4bbb-4af7-b610-4b09c592a1e5"
      },
      "execution_count": 59,
      "outputs": [
        {
          "output_type": "execute_result",
          "data": {
            "text/plain": [
              "['Even', 'Even', 'Odd', 'Even', 'Odd']"
            ]
          },
          "metadata": {},
          "execution_count": 59
        }
      ]
    },
    {
      "cell_type": "code",
      "source": [
        "list(map(lambda a:'Even' if a%2==0 else 'Odd',x))"
      ],
      "metadata": {
        "colab": {
          "base_uri": "https://localhost:8080/"
        },
        "id": "Wt_desF8_ZWt",
        "outputId": "64854edf-6be6-427e-8502-1e6784aebbd6"
      },
      "execution_count": 58,
      "outputs": [
        {
          "output_type": "execute_result",
          "data": {
            "text/plain": [
              "['Even', 'Even', 'Odd', 'Even', 'Odd']"
            ]
          },
          "metadata": {},
          "execution_count": 58
        }
      ]
    },
    {
      "cell_type": "code",
      "source": [],
      "metadata": {
        "id": "cvuVql6HAF_s"
      },
      "execution_count": null,
      "outputs": []
    },
    {
      "cell_type": "markdown",
      "source": [
        "# Filter"
      ],
      "metadata": {
        "id": "ZFmmWHewBS8L"
      }
    },
    {
      "cell_type": "code",
      "source": [
        "x=[1,2,3,4,5,6]\n",
        "x"
      ],
      "metadata": {
        "colab": {
          "base_uri": "https://localhost:8080/"
        },
        "id": "VtLKq1L_BU_9",
        "outputId": "c0df18dd-f50a-4d2f-f944-25b7cf52c519"
      },
      "execution_count": 60,
      "outputs": [
        {
          "output_type": "execute_result",
          "data": {
            "text/plain": [
              "[1, 2, 3, 4, 5, 6]"
            ]
          },
          "metadata": {},
          "execution_count": 60
        }
      ]
    },
    {
      "cell_type": "code",
      "source": [
        "list(filter(lambda a:a%2==0,x))"
      ],
      "metadata": {
        "colab": {
          "base_uri": "https://localhost:8080/"
        },
        "id": "dRI5UeCBBYQw",
        "outputId": "b43f1952-9d32-4cc5-c704-6aaa1dc9d142"
      },
      "execution_count": 63,
      "outputs": [
        {
          "output_type": "execute_result",
          "data": {
            "text/plain": [
              "[2, 4, 6]"
            ]
          },
          "metadata": {},
          "execution_count": 63
        }
      ]
    },
    {
      "cell_type": "code",
      "source": [
        "list(filter(lambda a:a%2!=0,x))"
      ],
      "metadata": {
        "colab": {
          "base_uri": "https://localhost:8080/"
        },
        "id": "Q3euHfYTBd9-",
        "outputId": "16fe228d-0a62-4050-e96c-d75b8d425520"
      },
      "execution_count": 64,
      "outputs": [
        {
          "output_type": "execute_result",
          "data": {
            "text/plain": [
              "[1, 3, 5]"
            ]
          },
          "metadata": {},
          "execution_count": 64
        }
      ]
    },
    {
      "cell_type": "markdown",
      "source": [
        "# Reduce"
      ],
      "metadata": {
        "id": "6Vh9vDyrBuoe"
      }
    },
    {
      "cell_type": "code",
      "source": [
        "x"
      ],
      "metadata": {
        "colab": {
          "base_uri": "https://localhost:8080/"
        },
        "id": "gC7LINkgBmBx",
        "outputId": "cdd5d9cb-4a2e-466e-c6b5-5bc7521891d2"
      },
      "execution_count": 65,
      "outputs": [
        {
          "output_type": "execute_result",
          "data": {
            "text/plain": [
              "[1, 2, 3, 4, 5, 6]"
            ]
          },
          "metadata": {},
          "execution_count": 65
        }
      ]
    },
    {
      "cell_type": "code",
      "source": [
        "from functools import reduce"
      ],
      "metadata": {
        "id": "TK3HpZ1_ByAL"
      },
      "execution_count": 66,
      "outputs": []
    },
    {
      "cell_type": "code",
      "source": [
        "reduce(lambda a,b:a+b,x)"
      ],
      "metadata": {
        "colab": {
          "base_uri": "https://localhost:8080/"
        },
        "id": "j686GEa9CBcI",
        "outputId": "8532a338-eb03-46e4-9a09-2c4affaa59ef"
      },
      "execution_count": 68,
      "outputs": [
        {
          "output_type": "execute_result",
          "data": {
            "text/plain": [
              "21"
            ]
          },
          "metadata": {},
          "execution_count": 68
        }
      ]
    },
    {
      "cell_type": "code",
      "source": [
        "reduce(lambda a,b:a*b,x)"
      ],
      "metadata": {
        "colab": {
          "base_uri": "https://localhost:8080/"
        },
        "id": "C_pMTgiXCNNV",
        "outputId": "0d58f3ab-8255-4d32-fb45-d8f95c2f2010"
      },
      "execution_count": 69,
      "outputs": [
        {
          "output_type": "execute_result",
          "data": {
            "text/plain": [
              "720"
            ]
          },
          "metadata": {},
          "execution_count": 69
        }
      ]
    },
    {
      "cell_type": "code",
      "source": [],
      "metadata": {
        "id": "s4KZnNfyDXl6"
      },
      "execution_count": null,
      "outputs": []
    }
  ]
}